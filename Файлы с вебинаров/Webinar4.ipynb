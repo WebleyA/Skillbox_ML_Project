{
 "cells": [
  {
   "cell_type": "markdown",
   "id": "d624dce5",
   "metadata": {},
   "source": [
    "# Этап 3"
   ]
  },
  {
   "cell_type": "markdown",
   "id": "db581e71",
   "metadata": {},
   "source": [
    "## Цели этапа\n",
    "1. Сохранить код в Git-репозитории.\n",
    "2. Создать манифест ML Project. \n",
    "3. Запустить код обучения модели (протоколирование метрик и сохранение артефактов) из Git-репозитория.\n"
   ]
  },
  {
   "cell_type": "markdown",
   "id": "bd964044",
   "metadata": {},
   "source": [
    "## 1. Первый коммит в новый репозиторий\n",
    "Создадим новый репозиторий (в предыдущем оставим всё то, что касалось инфраструктуры для проведения экспериментов)\n",
    "\n",
    "Клонируйте свой репозиторий и сделайте коммит, содержащий ваш файл train.py. Зафиксируйте (push) ваш коммит на удалённом Git-сервере.\n"
   ]
  },
  {
   "cell_type": "markdown",
   "id": "1d7dac26",
   "metadata": {},
   "source": [
    "Клонируйте новый Git-репозиторий на свой локальный компьютер, используя команду:\n",
    "\n",
    "git clone <URL-репозитория>"
   ]
  },
  {
   "cell_type": "markdown",
   "id": "963f92cf",
   "metadata": {},
   "source": [
    "Перейдите в каталог репозитория:\n",
    "\n",
    "cd <имя-репозитория>"
   ]
  },
  {
   "cell_type": "markdown",
   "id": "7d4b43a6",
   "metadata": {},
   "source": [
    "Скопируйте файл train.py в каталог репозитория.\n",
    "Создайте новый коммит:\n",
    "\n",
    "git add train.py\n",
    "git commit -m \"Добавлен файл train.py\""
   ]
  },
  {
   "cell_type": "markdown",
   "id": "80ec3e1e",
   "metadata": {},
   "source": [
    "Отправьте коммит на удаленный сервер:\n",
    "\n",
    "git push"
   ]
  },
  {
   "cell_type": "markdown",
   "id": "3983535e",
   "metadata": {},
   "source": [
    "## 2. Создание манифеста MLflow Project"
   ]
  },
  {
   "cell_type": "code",
   "execution_count": null,
   "id": "95e66eb8",
   "metadata": {},
   "outputs": [],
   "source": [
    "# В каталоге вашего проекта создайте файл с именем MLproject (без расширения файла).\n",
    "\n",
    "import os\n",
    "\n",
    "# Создание файлов внутри директорий\n",
    "open(\"MLproject\", \"w\").close()"
   ]
  },
  {
   "cell_type": "markdown",
   "id": "e68ffe94",
   "metadata": {},
   "source": [
    "Используйте код или воспользуйтесь текстовым редактором"
   ]
  },
  {
   "cell_type": "code",
   "execution_count": null,
   "id": "6db2bd5b",
   "metadata": {},
   "outputs": [],
   "source": [
    "MLproject_content = \"\"\"\n",
    "name: kinopoisk\n",
    "\n",
    "conda_env: environment.yml\n",
    "\n",
    "entry_points:\n",
    "  main:\n",
    "    parameters:\n",
    "      data_file: {type: str, default: \"data/kinopoisk_train.csv\"}\n",
    "    command: \"python train.py {data_file}\"\n",
    "\n",
    "\"\"\"\n",
    "with open(\"MLproject\", \"w\") as file:\n",
    "    file.write(MLproject_content)"
   ]
  },
  {
   "cell_type": "markdown",
   "id": "5e3af826",
   "metadata": {},
   "source": [
    "## 3. Создание файла environment.yml"
   ]
  },
  {
   "cell_type": "markdown",
   "id": "78db1190",
   "metadata": {},
   "source": [
    "1. Создайте файл environment.yml в каталоге вашего проекта.\n",
    "2. Добавьте следующее содержимое в файл environment.yml:"
   ]
  },
  {
   "cell_type": "code",
   "execution_count": null,
   "id": "e744ef21",
   "metadata": {},
   "outputs": [],
   "source": [
    "# Создание файлов внутри директорий\n",
    "open(\"environment.yml\", \"w\").close()\n",
    "enviroment_content = \"\"\"\n",
    "name: kinopoisk-env\n",
    "channels:\n",
    "  - defaults\n",
    "dependencies:\n",
    "  - python=3.10\n",
    "  - scikit-learn\n",
    "  - pandas\n",
    "  - mlflow\n",
    "  - boto3\n",
    "  - cryptography\n",
    "  - pymysql\n",
    "\n",
    "\"\"\"\n",
    "with open(\"environment\", \"w\") as file:\n",
    "    file.write(enviroment_content)"
   ]
  },
  {
   "cell_type": "markdown",
   "id": "3e0d9a34",
   "metadata": {},
   "source": [
    "## 4. Запуск проекта с помощью MLflow"
   ]
  },
  {
   "cell_type": "markdown",
   "id": "643f76e9",
   "metadata": {},
   "source": [
    "В терминале, убедитесь, что вы находитесь в каталоге вашего проекта, и выполните следующую команду:\n",
    "\n",
    "mlflow run . --experiment-name=kinopoisk"
   ]
  },
  {
   "cell_type": "markdown",
   "id": "8ed86e03",
   "metadata": {},
   "source": [
    "## 5. Проверка результатов\n",
    "\n",
    "Перейдите в веб-интерфейс MLflow по адресу http://localhost:5050 (не забудьте изменить адрес по необходимости) и проверьте, что эксперимент kinopoisk был создан и что метрики были зарегистрированы."
   ]
  },
  {
   "cell_type": "markdown",
   "id": "b6f366bf",
   "metadata": {},
   "source": [
    "# Задание: \n",
    "\n",
    "Создайте новый коммит, содержащий все созданные файлы. Создайте новый Git-тег с именем stage3. Зафиксируйте все изменения на удалённом сервере.\n",
    "\n",
    "Требования:\n",
    "- Репозиторий содержит код эксперимента и манифест ML Project.\n",
    "- Проект запускается из манифеста ML Project и работает правильно.\n",
    "- На коммите стоит соответствующий тег.\n"
   ]
  },
  {
   "cell_type": "code",
   "execution_count": null,
   "id": "65915c3e",
   "metadata": {},
   "outputs": [],
   "source": []
  }
 ],
 "metadata": {
  "kernelspec": {
   "display_name": "Python 3 (ipykernel)",
   "language": "python",
   "name": "python3"
  },
  "language_info": {
   "codemirror_mode": {
    "name": "ipython",
    "version": 3
   },
   "file_extension": ".py",
   "mimetype": "text/x-python",
   "name": "python",
   "nbconvert_exporter": "python",
   "pygments_lexer": "ipython3",
   "version": "3.9.13"
  }
 },
 "nbformat": 4,
 "nbformat_minor": 5
}
